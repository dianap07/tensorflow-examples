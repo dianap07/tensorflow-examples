{
 "cells": [
  {
   "cell_type": "markdown",
   "metadata": {},
   "source": [
    "# Section 2-1 - Basic Neural Network - MNIST"
   ]
  },
  {
   "cell_type": "code",
   "execution_count": 1,
   "metadata": {
    "collapsed": true
   },
   "outputs": [],
   "source": [
    "import numpy as np\n",
    "import pandas as pd\n",
    "from sklearn.preprocessing import StandardScaler\n",
    "from time import time\n",
    "\n",
    "np.random.seed(1337)\n",
    "\n",
    "df = pd.read_csv('../data/mnist.csv')"
   ]
  },
  {
   "cell_type": "code",
   "execution_count": 4,
   "metadata": {
    "collapsed": false
   },
   "outputs": [],
   "source": [
    "df_train = df.iloc[:33600, :]\n",
    "\n",
    "X_train = df_train.iloc[:, 1:].values / 255.\n",
    "y_train = df_train['label'].values\n",
    "y_train_onehot = pd.get_dummies(df_train['label']).values"
   ]
  },
  {
   "cell_type": "code",
   "execution_count": 5,
   "metadata": {
    "collapsed": false
   },
   "outputs": [],
   "source": [
    "df_test = df.iloc[33600:, :]\n",
    "\n",
    "X_test = df_test.iloc[:, 1:].values / 255.\n",
    "y_test = df_test['label'].values"
   ]
  },
  {
   "cell_type": "markdown",
   "metadata": {
    "collapsed": true
   },
   "source": [
    "## Benchmark"
   ]
  },
  {
   "cell_type": "code",
   "execution_count": 6,
   "metadata": {
    "collapsed": false
   },
   "outputs": [
    {
     "name": "stdout",
     "output_type": "stream",
     "text": [
      "building tree 1 of 10\n",
      "building tree 2 of 10\n",
      "building tree 3 of 10\n",
      "building tree 4 of 10\n",
      "building tree 5 of 10\n",
      "building tree 6 of 10\n",
      "building tree 7 of 10\n",
      "building tree 8 of 10\n",
      "building tree 9 of 10\n",
      "building tree 10 of 10\n",
      "\n",
      "accuracy 0.937857142857\n"
     ]
    },
    {
     "name": "stderr",
     "output_type": "stream",
     "text": [
      "[Parallel(n_jobs=1)]: Done  10 out of  10 | elapsed:    1.9s finished\n",
      "[Parallel(n_jobs=1)]: Done  10 out of  10 | elapsed:    0.0s finished\n"
     ]
    }
   ],
   "source": [
    "from sklearn.ensemble import RandomForestClassifier\n",
    "\n",
    "model = RandomForestClassifier(random_state=0, verbose=3)\n",
    "model = model.fit(X_train, df_train['label'].values)\n",
    "\n",
    "y_prediction = model.predict(X_test)\n",
    "print \"\\naccuracy\", np.sum(y_prediction == df_test['label'].values) / float(len(y_test))"
   ]
  },
  {
   "cell_type": "markdown",
   "metadata": {
    "collapsed": true
   },
   "source": [
    "## 1-layer Neural Network"
   ]
  },
  {
   "cell_type": "code",
   "execution_count": 7,
   "metadata": {
    "collapsed": false
   },
   "outputs": [
    {
     "name": "stderr",
     "output_type": "stream",
     "text": [
      "Using TensorFlow backend.\n"
     ]
    },
    {
     "name": "stdout",
     "output_type": "stream",
     "text": [
      "Epoch 1/10\n",
      "33600/33600 [==============================] - 2s - loss: 0.9613 - acc: 0.7711     \n",
      "Epoch 2/10\n",
      "33600/33600 [==============================] - 2s - loss: 0.5371 - acc: 0.8657     \n",
      "Epoch 3/10\n",
      "33600/33600 [==============================] - 2s - loss: 0.4598 - acc: 0.8792     \n",
      "Epoch 4/10\n",
      "33600/33600 [==============================] - 2s - loss: 0.4217 - acc: 0.8865     \n",
      "Epoch 5/10\n",
      "33600/33600 [==============================] - 2s - loss: 0.3980 - acc: 0.8921     \n",
      "Epoch 6/10\n",
      "33600/33600 [==============================] - 2s - loss: 0.3814 - acc: 0.8956     \n",
      "Epoch 7/10\n",
      "33600/33600 [==============================] - 2s - loss: 0.3689 - acc: 0.8991     \n",
      "Epoch 8/10\n",
      "33600/33600 [==============================] - 2s - loss: 0.3589 - acc: 0.9014     \n",
      "Epoch 9/10\n",
      "33600/33600 [==============================] - 2s - loss: 0.3508 - acc: 0.9037     \n",
      "Epoch 10/10\n",
      "33600/33600 [==============================] - 2s - loss: 0.3440 - acc: 0.9052     \n",
      "\n",
      "time taken 23.0311410427 seconds\n"
     ]
    }
   ],
   "source": [
    "from keras.models import Sequential\n",
    "from keras.layers import Dense, Activation\n",
    "\n",
    "start = time()\n",
    "\n",
    "model = Sequential()\n",
    "model.add(Dense(input_dim=784, output_dim=10))\n",
    "model.add(Activation(\"softmax\"))\n",
    "\n",
    "model.compile(loss='categorical_crossentropy', optimizer='sgd', metrics=['accuracy'])\n",
    "\n",
    "model.fit(X_train, y_train_onehot)\n",
    "\n",
    "print '\\ntime taken %s seconds' % str(time() - start)"
   ]
  },
  {
   "cell_type": "code",
   "execution_count": 8,
   "metadata": {
    "collapsed": false
   },
   "outputs": [
    {
     "name": "stdout",
     "output_type": "stream",
     "text": [
      "8352/8400 [============================>.] - ETA: 0s\n",
      "\n",
      "accuracy 0.905714285714\n"
     ]
    }
   ],
   "source": [
    "y_prediction = model.predict_classes(X_test)\n",
    "print \"\\n\\naccuracy\", np.sum(y_prediction == y_test) / float(len(y_test))"
   ]
  },
  {
   "cell_type": "markdown",
   "metadata": {},
   "source": [
    "## 2-layer Neural Network"
   ]
  },
  {
   "cell_type": "code",
   "execution_count": 9,
   "metadata": {
    "collapsed": false
   },
   "outputs": [
    {
     "name": "stdout",
     "output_type": "stream",
     "text": [
      "Epoch 1/10\n",
      "33600/33600 [==============================] - 2s - loss: 0.7038 - acc: 0.8191     \n",
      "Epoch 2/10\n",
      "33600/33600 [==============================] - 3s - loss: 0.3942 - acc: 0.8907     \n",
      "Epoch 3/10\n",
      "33600/33600 [==============================] - 2s - loss: 0.3498 - acc: 0.9021     \n",
      "Epoch 4/10\n",
      "33600/33600 [==============================] - 2s - loss: 0.3287 - acc: 0.9065     \n",
      "Epoch 5/10\n",
      "33600/33600 [==============================] - 2s - loss: 0.3153 - acc: 0.9097     \n",
      "Epoch 6/10\n",
      "33600/33600 [==============================] - 2s - loss: 0.3056 - acc: 0.9132     \n",
      "Epoch 7/10\n",
      "33600/33600 [==============================] - 3s - loss: 0.2985 - acc: 0.9157     \n",
      "Epoch 8/10\n",
      "33600/33600 [==============================] - 3s - loss: 0.2927 - acc: 0.9175     \n",
      "Epoch 9/10\n",
      "33600/33600 [==============================] - 3s - loss: 0.2881 - acc: 0.9182     \n",
      "Epoch 10/10\n",
      "33600/33600 [==============================] - 3s - loss: 0.2840 - acc: 0.9195     \n",
      "\n",
      "time taken 30.7171339989 seconds\n"
     ]
    }
   ],
   "source": [
    "start = time()\n",
    "\n",
    "model = Sequential()\n",
    "model.add(Dense(input_dim=784, output_dim=100))\n",
    "model.add(Dense(output_dim=10))\n",
    "model.add(Activation(\"softmax\"))\n",
    "\n",
    "model.compile(loss='categorical_crossentropy', optimizer='sgd', metrics=['accuracy'])\n",
    "\n",
    "model.fit(X_train, y_train_onehot)\n",
    "\n",
    "print '\\ntime taken %s seconds' % str(time() - start)"
   ]
  },
  {
   "cell_type": "code",
   "execution_count": 10,
   "metadata": {
    "collapsed": false
   },
   "outputs": [
    {
     "name": "stdout",
     "output_type": "stream",
     "text": [
      "7904/8400 [===========================>..] - ETA: 0s\n",
      "\n",
      "accuracy 0.918333333333\n"
     ]
    }
   ],
   "source": [
    "y_prediction = model.predict_classes(X_test)\n",
    "print \"\\n\\naccuracy\", np.sum(y_prediction == y_test) / float(len(y_test))"
   ]
  },
  {
   "cell_type": "markdown",
   "metadata": {},
   "source": [
    "## 3-layer Neural Network"
   ]
  },
  {
   "cell_type": "code",
   "execution_count": 11,
   "metadata": {
    "collapsed": false
   },
   "outputs": [
    {
     "name": "stdout",
     "output_type": "stream",
     "text": [
      "Epoch 1/10\n",
      "33600/33600 [==============================] - 3s - loss: 0.6125 - acc: 0.8334     \n",
      "Epoch 2/10\n",
      "33600/33600 [==============================] - 3s - loss: 0.3563 - acc: 0.8977     \n",
      "Epoch 3/10\n",
      "33600/33600 [==============================] - 3s - loss: 0.3230 - acc: 0.9073     \n",
      "Epoch 4/10\n",
      "33600/33600 [==============================] - 3s - loss: 0.3069 - acc: 0.9132     \n",
      "Epoch 5/10\n",
      "33600/33600 [==============================] - 3s - loss: 0.2963 - acc: 0.9151     \n",
      "Epoch 6/10\n",
      "33600/33600 [==============================] - 3s - loss: 0.2890 - acc: 0.9166     \n",
      "Epoch 7/10\n",
      "33600/33600 [==============================] - 3s - loss: 0.2827 - acc: 0.9187     \n",
      "Epoch 8/10\n",
      "33600/33600 [==============================] - 3s - loss: 0.2784 - acc: 0.9207     \n",
      "Epoch 9/10\n",
      "33600/33600 [==============================] - 3s - loss: 0.2739 - acc: 0.9217     \n",
      "Epoch 10/10\n",
      "33600/33600 [==============================] - 3s - loss: 0.2702 - acc: 0.9233     \n",
      "\n",
      "time taken 35.4431540966 seconds\n"
     ]
    }
   ],
   "source": [
    "start = time()\n",
    "\n",
    "model = Sequential()\n",
    "model.add(Dense(input_dim=784, output_dim=100))\n",
    "model.add(Dense(output_dim=100))\n",
    "model.add(Dense(output_dim=10))\n",
    "model.add(Activation(\"softmax\"))\n",
    "\n",
    "model.compile(loss='categorical_crossentropy', optimizer='sgd', metrics=['accuracy'])\n",
    "\n",
    "model.fit(X_train, y_train_onehot)\n",
    "\n",
    "print '\\ntime taken %s seconds' % str(time() - start)"
   ]
  },
  {
   "cell_type": "code",
   "execution_count": 12,
   "metadata": {
    "collapsed": false
   },
   "outputs": [
    {
     "name": "stdout",
     "output_type": "stream",
     "text": [
      "8288/8400 [============================>.] - ETA: 0s\n",
      "\n",
      "accuracy 0.919404761905\n"
     ]
    }
   ],
   "source": [
    "y_prediction = model.predict_classes(X_test)\n",
    "print \"\\n\\naccuracy\", np.sum(y_prediction == y_test) / float(len(y_test))"
   ]
  }
 ],
 "metadata": {
  "kernelspec": {
   "display_name": "Python 2",
   "language": "python",
   "name": "python2"
  },
  "language_info": {
   "codemirror_mode": {
    "name": "ipython",
    "version": 2
   },
   "file_extension": ".py",
   "mimetype": "text/x-python",
   "name": "python",
   "nbconvert_exporter": "python",
   "pygments_lexer": "ipython2",
   "version": "2.7.10"
  }
 },
 "nbformat": 4,
 "nbformat_minor": 0
}
